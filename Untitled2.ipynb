{
  "nbformat": 4,
  "nbformat_minor": 0,
  "metadata": {
    "colab": {
      "name": "Untitled2.ipynb",
      "provenance": [],
      "authorship_tag": "ABX9TyMUzFF1sOiUyUfslujFdaSh",
      "include_colab_link": true
    },
    "kernelspec": {
      "name": "python3",
      "display_name": "Python 3"
    },
    "language_info": {
      "name": "python"
    }
  },
  "cells": [
    {
      "cell_type": "markdown",
      "metadata": {
        "id": "view-in-github",
        "colab_type": "text"
      },
      "source": [
        "<a href=\"https://colab.research.google.com/github/vilacco/testovoe_/blob/main/Untitled2.ipynb\" target=\"_parent\"><img src=\"https://colab.research.google.com/assets/colab-badge.svg\" alt=\"Open In Colab\"/></a>"
      ]
    },
    {
      "cell_type": "code",
      "metadata": {
        "id": "R25iH-pJdX-A"
      },
      "source": [
        "import pandas as pd\n",
        "import numpy as np"
      ],
      "execution_count": 1,
      "outputs": []
    },
    {
      "cell_type": "code",
      "metadata": {
        "id": "9z5R95Qtd6aP"
      },
      "source": [
        "train = pd.read_csv('/content/train.csv')\n",
        "test = pd.read_csv('/content/test.csv')\n",
        "hashed_feature = pd.read_csv('/content/hashed_feature.csv')\n",
        "tabular_data = pd.read_csv('/content/tabular_data.csv')"
      ],
      "execution_count": 2,
      "outputs": []
    },
    {
      "cell_type": "code",
      "metadata": {
        "id": "a4m7dLUbeZSo"
      },
      "source": [
        "tabular_data.isna().mean().sort_values(ascending = False)"
      ],
      "execution_count": null,
      "outputs": []
    },
    {
      "cell_type": "code",
      "metadata": {
        "id": "QDL1TG9Iec2Q"
      },
      "source": [
        "train.merge(tabular_data[tabular_data['period']==1],how = 'left', on = 'id')"
      ],
      "execution_count": null,
      "outputs": []
    },
    {
      "cell_type": "code",
      "metadata": {
        "id": "oBeotHDLffk3"
      },
      "source": [
        "train_df = train.merge(tabular_data[tabular_data['period']==1],how = 'left', on = 'id')"
      ],
      "execution_count": 7,
      "outputs": []
    },
    {
      "cell_type": "code",
      "metadata": {
        "id": "MAm2e25yfnNF"
      },
      "source": [
        "train_df.isna().mean().sort_values(ascending = False)"
      ],
      "execution_count": null,
      "outputs": []
    },
    {
      "cell_type": "code",
      "metadata": {
        "id": "wW18QyH1fu83"
      },
      "source": [
        "train_df.columns"
      ],
      "execution_count": null,
      "outputs": []
    },
    {
      "cell_type": "code",
      "metadata": {
        "id": "AFgK_fclgFYw"
      },
      "source": [
        "X_ = ['id', 'feature_0', 'feature_1', 'feature_2',\n",
        "     'feature_3', 'feature_4', 'feature_5', 'feature_6', 'feature_7',\n",
        "     'feature_8', 'feature_9', 'feature_10', 'feature_11', 'feature_12',\n",
        "     'feature_13', 'feature_14', 'feature_15', 'feature_16', 'feature_17',\n",
        "     'feature_18', 'feature_19', 'feature_20', 'feature_21', 'feature_22',\n",
        "     'feature_23', 'feature_24', 'feature_25', 'feature_26', 'feature_27',\n",
        "     'feature_28', 'feature_29', 'feature_30', 'feature_31', 'feature_32',\n",
        "     'feature_33', 'feature_34', 'feature_35', 'feature_36', 'feature_37',\n",
        "     'feature_38', 'feature_39', 'feature_40', 'feature_41', 'feature_42',\n",
        "     'feature_43', 'feature_44', 'feature_45', 'feature_46', 'feature_47',\n",
        "     'feature_48', 'feature_49']\n",
        "Y_ = ['target']\n",
        "Cat_features = ['feature_25']"
      ],
      "execution_count": 12,
      "outputs": []
    },
    {
      "cell_type": "code",
      "metadata": {
        "id": "74NgUqxZgsff"
      },
      "source": [
        "train = train_df.sample(frac = 0.8, random_state = 42).copy()"
      ],
      "execution_count": 16,
      "outputs": []
    },
    {
      "cell_type": "code",
      "metadata": {
        "id": "3I_YeTkphBv0"
      },
      "source": [
        "validation = train_df[~train_df.index.isin(train.index)]"
      ],
      "execution_count": 17,
      "outputs": []
    },
    {
      "cell_type": "code",
      "metadata": {
        "id": "6TV7EA6yhQF1"
      },
      "source": [
        "!pip install catboost"
      ],
      "execution_count": null,
      "outputs": []
    },
    {
      "cell_type": "code",
      "metadata": {
        "id": "KyRtDIYjhX5e"
      },
      "source": [
        "from catboost import CatBoostClassifier"
      ],
      "execution_count": 20,
      "outputs": []
    },
    {
      "cell_type": "code",
      "metadata": {
        "id": "wzboSbhXh0jz"
      },
      "source": [
        "model = CatBoostClassifier(verbose = 50, eval_metric = 'AUC', cat_features = Cat_features)"
      ],
      "execution_count": 21,
      "outputs": []
    },
    {
      "cell_type": "code",
      "metadata": {
        "colab": {
          "base_uri": "https://localhost:8080/"
        },
        "id": "iQpAQq7uiAZR",
        "outputId": "7206abb4-002f-4e6f-c691-87fe7116104f"
      },
      "source": [
        "model.fit(train[X_], train[Y_], eval_set = (validation[X_], validation[Y_]))"
      ],
      "execution_count": 22,
      "outputs": [
        {
          "output_type": "stream",
          "name": "stdout",
          "text": [
            "Learning rate set to 0.042453\n",
            "0:\ttest: 0.6792044\tbest: 0.6792044 (0)\ttotal: 67.6ms\tremaining: 1m 7s\n",
            "50:\ttest: 0.7264483\tbest: 0.7306846 (36)\ttotal: 869ms\tremaining: 16.2s\n",
            "100:\ttest: 0.7286244\tbest: 0.7313548 (89)\ttotal: 1.64s\tremaining: 14.6s\n",
            "150:\ttest: 0.7277887\tbest: 0.7313548 (89)\ttotal: 2.41s\tremaining: 13.6s\n",
            "200:\ttest: 0.7246612\tbest: 0.7313548 (89)\ttotal: 3.18s\tremaining: 12.6s\n",
            "250:\ttest: 0.7269531\tbest: 0.7313548 (89)\ttotal: 3.96s\tremaining: 11.8s\n",
            "300:\ttest: 0.7245950\tbest: 0.7313548 (89)\ttotal: 4.73s\tremaining: 11s\n",
            "350:\ttest: 0.7219887\tbest: 0.7313548 (89)\ttotal: 5.52s\tremaining: 10.2s\n",
            "400:\ttest: 0.7197879\tbest: 0.7313548 (89)\ttotal: 6.28s\tremaining: 9.37s\n",
            "450:\ttest: 0.7181331\tbest: 0.7313548 (89)\ttotal: 7.05s\tremaining: 8.58s\n",
            "500:\ttest: 0.7160563\tbest: 0.7313548 (89)\ttotal: 7.84s\tremaining: 7.81s\n",
            "550:\ttest: 0.7139548\tbest: 0.7313548 (89)\ttotal: 8.62s\tremaining: 7.03s\n",
            "600:\ttest: 0.7128378\tbest: 0.7313548 (89)\ttotal: 9.4s\tremaining: 6.24s\n",
            "650:\ttest: 0.7126640\tbest: 0.7313548 (89)\ttotal: 10.2s\tremaining: 5.45s\n",
            "700:\ttest: 0.7123331\tbest: 0.7313548 (89)\ttotal: 10.9s\tremaining: 4.67s\n",
            "750:\ttest: 0.7110920\tbest: 0.7313548 (89)\ttotal: 11.7s\tremaining: 3.88s\n",
            "800:\ttest: 0.7095117\tbest: 0.7313548 (89)\ttotal: 12.5s\tremaining: 3.1s\n",
            "850:\ttest: 0.7079148\tbest: 0.7313548 (89)\ttotal: 13.3s\tremaining: 2.32s\n",
            "900:\ttest: 0.7102398\tbest: 0.7313548 (89)\ttotal: 14.1s\tremaining: 1.54s\n",
            "950:\ttest: 0.7088084\tbest: 0.7313548 (89)\ttotal: 14.8s\tremaining: 765ms\n",
            "999:\ttest: 0.7065413\tbest: 0.7313548 (89)\ttotal: 15.6s\tremaining: 0us\n",
            "\n",
            "bestTest = 0.7313547682\n",
            "bestIteration = 89\n",
            "\n",
            "Shrink model to first 90 iterations.\n"
          ]
        },
        {
          "output_type": "execute_result",
          "data": {
            "text/plain": [
              "<catboost.core.CatBoostClassifier at 0x7f0d65bdc450>"
            ]
          },
          "metadata": {},
          "execution_count": 22
        }
      ]
    },
    {
      "cell_type": "code",
      "metadata": {
        "id": "cl_WPCovjA7z"
      },
      "source": [
        "feature_importance = pd.DataFrame({'feature_name':X_, 'weight':model.feature_importances_})"
      ],
      "execution_count": 26,
      "outputs": []
    },
    {
      "cell_type": "code",
      "metadata": {
        "id": "TFlA7YOEjdia"
      },
      "source": [
        "feature_importance.sort_values('weight', ascending=False, inplace= True)"
      ],
      "execution_count": 31,
      "outputs": []
    },
    {
      "cell_type": "code",
      "metadata": {
        "colab": {
          "base_uri": "https://localhost:8080/",
          "height": 396
        },
        "id": "-JOOSlE1j5gJ",
        "outputId": "583efa4d-4289-4510-f484-53974e1458a3"
      },
      "source": [
        "feature_importance.set_index('feature_name')['weight'].plot(kind = 'bar', figsize = (9,5))"
      ],
      "execution_count": 33,
      "outputs": [
        {
          "output_type": "execute_result",
          "data": {
            "text/plain": [
              "<matplotlib.axes._subplots.AxesSubplot at 0x7f0d65b23290>"
            ]
          },
          "metadata": {},
          "execution_count": 33
        },
        {
          "output_type": "display_data",
          "data": {
            "image/png": "[encoded data removed]",
            "text/plain": [
              "<Figure size 648x360 with 1 Axes>"
            ]
          },
          "metadata": {
            "needs_background": "light"
          }
        }
      ]
    },
    {
      "cell_type": "code",
      "metadata": {
        "id": "1zSKQ4Ozkf6w"
      },
      "source": [
        "#train_df = train.merge(hashed_feature,how = 'left', on = 'id')#"
      ],
      "execution_count": null,
      "outputs": []
    },
    {
      "cell_type": "code",
      "metadata": {
        "colab": {
          "base_uri": "https://localhost:8080/"
        },
        "id": "Ml4ld0-LlrLa",
        "outputId": "4ea79718-b79b-4384-f7c6-b3857ff1f1cb"
      },
      "source": [
        "hashed_feature.isna().mean().sort_values(ascending = False)"
      ],
      "execution_count": 34,
      "outputs": [
        {
          "output_type": "execute_result",
          "data": {
            "text/plain": [
              "feature_50    0.001518\n",
              "id            0.000000\n",
              "dtype: float64"
            ]
          },
          "metadata": {},
          "execution_count": 34
        }
      ]
    },
    {
      "cell_type": "code",
      "metadata": {
        "colab": {
          "base_uri": "https://localhost:8080/"
        },
        "id": "JYKcfILklrEq",
        "outputId": "83229cd4-ff5d-4361-f432-4046ac06799c"
      },
      "source": [
        "hashed_feature['feature_50'].value_counts()"
      ],
      "execution_count": 35,
      "outputs": [
        {
          "output_type": "execute_result",
          "data": {
            "text/plain": [
              "7984b0a0e139cabadb5afc7756d473fb34d23819    2531\n",
              "732859d808df41a0c340c31a4ab55f6f8f77af42    1561\n",
              "bc69c5b3e3892ae2d63629bc2c916cb67f17feaa     819\n",
              "f4f7e30d6604756613a7c203ddd63cd93fe0f0b0     686\n",
              "5a214d3b3a3f26cab544d931ad211881b1e3e4d2     621\n",
              "                                            ... \n",
              "05255e83d9fbb13644110255d441a3d98c954be6       1\n",
              "d5fb626898fa209eda8f5172eabf16c1e05ec846       1\n",
              "40ab5df51d973010bc87096e27e13276ce82b9a8       1\n",
              "523762c257482b7d1c889617050018c0d219ae24       1\n",
              "bf3a537c54c2ffad43dca4c52cafc8aedef84086       1\n",
              "Name: feature_50, Length: 5009, dtype: int64"
            ]
          },
          "metadata": {},
          "execution_count": 35
        }
      ]
    },
    {
      "cell_type": "code",
      "metadata": {
        "id": "v3xoky1HmRij"
      },
      "source": [
        "hashed_feature.dropna(inplace = True) "
      ],
      "execution_count": 36,
      "outputs": []
    },
    {
      "cell_type": "code",
      "metadata": {
        "id": "kDmJV4mcnRV4"
      },
      "source": [
        "hash_join = hashed_feature.groupby('id')['feature_50'].apply(lambda x: ' '.join(x)).reset_index()"
      ],
      "execution_count": 40,
      "outputs": []
    },
    {
      "cell_type": "code",
      "metadata": {
        "id": "78c9uov3ngf6"
      },
      "source": [
        "train_df = train_df.merge(hash_join, how = 'left', on = 'id')"
      ],
      "execution_count": 42,
      "outputs": []
    },
    {
      "cell_type": "code",
      "metadata": {
        "id": "xXkIQ488ppwG"
      },
      "source": [
        "train_df = train_df[~train_df['feature_50'].isna()].copy()"
      ],
      "execution_count": 51,
      "outputs": []
    },
    {
      "cell_type": "code",
      "metadata": {
        "id": "Cy8yM10an68q"
      },
      "source": [
        " X_ = ['id', 'feature_0', 'feature_1', 'feature_2',\n",
        "     'feature_3', 'feature_4', 'feature_5', 'feature_6', 'feature_7',\n",
        "     'feature_8', 'feature_9', 'feature_10', 'feature_11', 'feature_12',\n",
        "     'feature_13', 'feature_14', 'feature_15', 'feature_16', 'feature_17',\n",
        "     'feature_18', 'feature_19', 'feature_20', 'feature_21', 'feature_22',\n",
        "     'feature_23', 'feature_24', 'feature_25', 'feature_26', 'feature_27',\n",
        "     'feature_28', 'feature_29', 'feature_30', 'feature_31', 'feature_32',\n",
        "     'feature_33', 'feature_34', 'feature_35', 'feature_36', 'feature_37',\n",
        "     'feature_38', 'feature_39', 'feature_40', 'feature_41', 'feature_42',\n",
        "     'feature_43', 'feature_44', 'feature_45', 'feature_46', 'feature_47',\n",
        "     'feature_48', 'feature_49', 'feature_50']\n",
        "Y_ = ['target']\n",
        "Cat_features = ['feature_25']\n",
        "Text_features = ['feature_50']"
      ],
      "execution_count": 67,
      "outputs": []
    },
    {
      "cell_type": "code",
      "metadata": {
        "id": "WzwhP1QMoZnw"
      },
      "source": [
        "train = train_df.sample(frac = 0.8, random_state = 42).copy()"
      ],
      "execution_count": 68,
      "outputs": []
    },
    {
      "cell_type": "code",
      "metadata": {
        "id": "8aP3VT0tonRg"
      },
      "source": [
        "validation = train_df[~train_df.index.isin(train.index)]"
      ],
      "execution_count": 69,
      "outputs": []
    },
    {
      "cell_type": "code",
      "metadata": {
        "id": "umujWbI9op1D"
      },
      "source": [
        "model_ = CatBoostClassifier(verbose = 50, eval_metric = 'AUC',\n",
        "                            cat_features = Cat_features, text_features = Text_features)"
      ],
      "execution_count": 55,
      "outputs": []
    },
    {
      "cell_type": "code",
      "metadata": {
        "colab": {
          "base_uri": "https://localhost:8080/"
        },
        "id": "Cic_An61o1wK",
        "outputId": "4daef308-da56-42da-8b51-95eb4eeca2ba"
      },
      "source": [
        "model_.fit(train[X_], train[Y_], eval_set = (validation[X_], validation[Y_]))"
      ],
      "execution_count": 56,
      "outputs": [
        {
          "output_type": "stream",
          "name": "stdout",
          "text": [
            "Learning rate set to 0.042449\n",
            "0:\ttest: 0.6338404\tbest: 0.6338404 (0)\ttotal: 256ms\tremaining: 4m 15s\n",
            "50:\ttest: 0.7386841\tbest: 0.7425839 (19)\ttotal: 10.4s\tremaining: 3m 13s\n",
            "100:\ttest: 0.7396653\tbest: 0.7425839 (19)\ttotal: 20.5s\tremaining: 3m 2s\n",
            "150:\ttest: 0.7424602\tbest: 0.7426416 (149)\ttotal: 30.5s\tremaining: 2m 51s\n",
            "200:\ttest: 0.7432764\tbest: 0.7438783 (175)\ttotal: 40.6s\tremaining: 2m 41s\n",
            "250:\ttest: 0.7480666\tbest: 0.7486108 (247)\ttotal: 50.7s\tremaining: 2m 31s\n",
            "300:\ttest: 0.7452799\tbest: 0.7486108 (247)\ttotal: 1m\tremaining: 2m 21s\n",
            "350:\ttest: 0.7457086\tbest: 0.7486108 (247)\ttotal: 1m 10s\tremaining: 2m 11s\n",
            "400:\ttest: 0.7466403\tbest: 0.7486108 (247)\ttotal: 1m 20s\tremaining: 2m\n",
            "450:\ttest: 0.7491714\tbest: 0.7491714 (450)\ttotal: 1m 31s\tremaining: 1m 50s\n",
            "500:\ttest: 0.7472339\tbest: 0.7499217 (462)\ttotal: 1m 41s\tremaining: 1m 40s\n",
            "550:\ttest: 0.7460879\tbest: 0.7499217 (462)\ttotal: 1m 51s\tremaining: 1m 30s\n",
            "600:\ttest: 0.7463187\tbest: 0.7499217 (462)\ttotal: 2m 1s\tremaining: 1m 20s\n",
            "650:\ttest: 0.7449501\tbest: 0.7499217 (462)\ttotal: 2m 11s\tremaining: 1m 10s\n",
            "700:\ttest: 0.7450491\tbest: 0.7499217 (462)\ttotal: 2m 21s\tremaining: 1m\n",
            "750:\ttest: 0.7421304\tbest: 0.7499217 (462)\ttotal: 2m 31s\tremaining: 50.4s\n",
            "800:\ttest: 0.7422376\tbest: 0.7499217 (462)\ttotal: 2m 41s\tremaining: 40.2s\n",
            "850:\ttest: 0.7421304\tbest: 0.7499217 (462)\ttotal: 2m 52s\tremaining: 30.1s\n",
            "900:\ttest: 0.7428312\tbest: 0.7499217 (462)\ttotal: 3m 2s\tremaining: 20s\n",
            "950:\ttest: 0.7408030\tbest: 0.7499217 (462)\ttotal: 3m 12s\tremaining: 9.91s\n",
            "999:\ttest: 0.7398714\tbest: 0.7499217 (462)\ttotal: 3m 22s\tremaining: 0us\n",
            "\n",
            "bestTest = 0.7499216753\n",
            "bestIteration = 462\n",
            "\n",
            "Shrink model to first 463 iterations.\n"
          ]
        },
        {
          "output_type": "execute_result",
          "data": {
            "text/plain": [
              "<catboost.core.CatBoostClassifier at 0x7f0d644602d0>"
            ]
          },
          "metadata": {},
          "execution_count": 56
        }
      ]
    },
    {
      "cell_type": "code",
      "metadata": {
        "id": "eoMHWY-Wp26A"
      },
      "source": [
        "feature_importance = pd.DataFrame({'feature_name':X_, 'weight':model_.feature_importances_})"
      ],
      "execution_count": 57,
      "outputs": []
    },
    {
      "cell_type": "code",
      "metadata": {
        "id": "F7aAQlH9sTk8"
      },
      "source": [
        "feature_importance.sort_values('weight', ascending=False, inplace= True)"
      ],
      "execution_count": 58,
      "outputs": []
    },
    {
      "cell_type": "code",
      "metadata": {
        "colab": {
          "base_uri": "https://localhost:8080/",
          "height": 451
        },
        "id": "kF2s7oOgsXkB",
        "outputId": "4088f593-a6ea-4c44-dcc3-a3ce65d621d9"
      },
      "source": [
        "feature_importance.set_index('feature_name')['weight'].plot(kind = 'bar', figsize = (9,6))"
      ],
      "execution_count": 60,
      "outputs": [
        {
          "output_type": "execute_result",
          "data": {
            "text/plain": [
              "<matplotlib.axes._subplots.AxesSubplot at 0x7f0d642a5650>"
            ]
          },
          "metadata": {},
          "execution_count": 60
        },
        {
          "output_type": "display_data",
          "data": {
            "image/png": "[encoded data removed]",
            "text/plain": [
              "<Figure size 648x432 with 1 Axes>"
            ]
          },
          "metadata": {
            "needs_background": "light"
          }
        }
      ]
    },
    {
      "cell_type": "code",
      "metadata": {
        "colab": {
          "base_uri": "https://localhost:8080/"
        },
        "id": "iXtIzWupsaUW",
        "outputId": "b1792274-2257-4b37-e56a-22e34e12cca3"
      },
      "source": [
        "feature_importance.head(10)['feature_name'].values"
      ],
      "execution_count": 63,
      "outputs": [
        {
          "output_type": "execute_result",
          "data": {
            "text/plain": [
              "array(['feature_50', 'feature_46', 'feature_6', 'feature_17',\n",
              "       'feature_47', 'feature_19', 'id', 'feature_13', 'feature_18',\n",
              "       'feature_12'], dtype=object)"
            ]
          },
          "metadata": {},
          "execution_count": 63
        }
      ]
    },
    {
      "cell_type": "code",
      "metadata": {
        "id": "UWx7m_uPsnr0"
      },
      "source": [
        "X_10 = ['feature_50', 'feature_46', 'feature_6', 'feature_17',\n",
        "       'feature_47', 'feature_19', 'id', 'feature_13', 'feature_18',\n",
        "       'feature_12', 'feature_25']"
      ],
      "execution_count": 71,
      "outputs": []
    },
    {
      "cell_type": "code",
      "metadata": {
        "colab": {
          "base_uri": "https://localhost:8080/"
        },
        "id": "q05GjGmKtPoy",
        "outputId": "e3216bf0-abc1-4d58-ecda-72b337d70f22"
      },
      "source": [
        "model_.fit(train[X_10], train[Y_], eval_set = (validation[X_10], validation[Y_]))"
      ],
      "execution_count": 72,
      "outputs": [
        {
          "output_type": "stream",
          "name": "stdout",
          "text": [
            "Learning rate set to 0.042449\n",
            "0:\ttest: 0.6295779\tbest: 0.6295779 (0)\ttotal: 227ms\tremaining: 3m 46s\n",
            "50:\ttest: 0.7392365\tbest: 0.7397147 (49)\ttotal: 10s\tremaining: 3m 6s\n",
            "100:\ttest: 0.7349823\tbest: 0.7397147 (49)\ttotal: 19.6s\tremaining: 2m 54s\n",
            "150:\ttest: 0.7395169\tbest: 0.7397147 (49)\ttotal: 29.2s\tremaining: 2m 44s\n",
            "200:\ttest: 0.7410339\tbest: 0.7431775 (170)\ttotal: 38.8s\tremaining: 2m 34s\n",
            "250:\ttest: 0.7428560\tbest: 0.7431775 (170)\ttotal: 48.5s\tremaining: 2m 24s\n",
            "300:\ttest: 0.7451975\tbest: 0.7464342 (296)\ttotal: 58.2s\tremaining: 2m 15s\n",
            "350:\ttest: 0.7434908\tbest: 0.7464342 (296)\ttotal: 1m 7s\tremaining: 2m 5s\n",
            "400:\ttest: 0.7430703\tbest: 0.7464342 (296)\ttotal: 1m 17s\tremaining: 1m 55s\n",
            "450:\ttest: 0.7420150\tbest: 0.7464342 (296)\ttotal: 1m 27s\tremaining: 1m 45s\n",
            "500:\ttest: 0.7395581\tbest: 0.7464342 (296)\ttotal: 1m 36s\tremaining: 1m 36s\n",
            "550:\ttest: 0.7398466\tbest: 0.7464342 (296)\ttotal: 1m 46s\tremaining: 1m 26s\n",
            "600:\ttest: 0.7369198\tbest: 0.7464342 (296)\ttotal: 1m 56s\tremaining: 1m 17s\n",
            "650:\ttest: 0.7347926\tbest: 0.7464342 (296)\ttotal: 2m 5s\tremaining: 1m 7s\n",
            "700:\ttest: 0.7324594\tbest: 0.7464342 (296)\ttotal: 2m 15s\tremaining: 57.8s\n",
            "750:\ttest: 0.7313876\tbest: 0.7464342 (296)\ttotal: 2m 25s\tremaining: 48.1s\n",
            "800:\ttest: 0.7295902\tbest: 0.7464342 (296)\ttotal: 2m 34s\tremaining: 38.4s\n",
            "850:\ttest: 0.7299118\tbest: 0.7464342 (296)\ttotal: 2m 44s\tremaining: 28.8s\n",
            "900:\ttest: 0.7275373\tbest: 0.7464342 (296)\ttotal: 2m 53s\tremaining: 19.1s\n",
            "950:\ttest: 0.7277682\tbest: 0.7464342 (296)\ttotal: 3m 3s\tremaining: 9.46s\n",
            "999:\ttest: 0.7272735\tbest: 0.7464342 (296)\ttotal: 3m 13s\tremaining: 0us\n",
            "\n",
            "bestTest = 0.746434166\n",
            "bestIteration = 296\n",
            "\n",
            "Shrink model to first 297 iterations.\n"
          ]
        },
        {
          "output_type": "execute_result",
          "data": {
            "text/plain": [
              "<catboost.core.CatBoostClassifier at 0x7f0d644602d0>"
            ]
          },
          "metadata": {},
          "execution_count": 72
        }
      ]
    },
    {
      "cell_type": "code",
      "metadata": {
        "id": "qwbd4QDQtj0b"
      },
      "source": [
        ""
      ],
      "execution_count": null,
      "outputs": []
    }
  ]
}